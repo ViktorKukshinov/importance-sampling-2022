{
 "cells": [
  {
   "cell_type": "code",
   "execution_count": 151,
   "metadata": {},
   "outputs": [],
   "source": [
    "import pandas as pd\n",
    "import numpy as np\n",
    "from datetime import datetime\n",
    "from datetime import timedelta\n",
    "from typing import List\n",
    "\n",
    "\n",
    "import pandas_datareader as web\n",
    "import investpy"
   ]
  },
  {
   "cell_type": "code",
   "execution_count": 152,
   "metadata": {},
   "outputs": [],
   "source": [
    "def get_data(asset: str, from_date: datetime, to_date: datetime, **kwargs) -> pd.DataFrame:\n",
    "    dt = web.get_data_yahoo(symbols = asset, \n",
    "                            start = pd.to_datetime(datetime.strptime(from_date, '%m/%d/%Y').strftime('%m/%d/%Y'))-timedelta(days=1), \n",
    "                            end = pd.to_datetime(datetime.strptime(to_date, '%m/%d/%Y').strftime('%m/%d/%Y'))-timedelta(days=1))\n",
    "    \n",
    "    dt = dt[['Close']].dropna()\n",
    "    return dt"
   ]
  },
  {
   "cell_type": "code",
   "execution_count": 153,
   "metadata": {},
   "outputs": [],
   "source": [
    "def weighted_portfolio (assets: list[str], \n",
    "                  weights: list[float], \n",
    "                  from_date: datetime, \n",
    "                  to_date: datetime, \n",
    "                  **kwargs) -> pd.DataFrame:\n",
    "\n",
    "    dfs = [get_data(asset, \n",
    "                    from_date, \n",
    "                    to_date, **kwargs) for asset in assets]\n",
    "    portfolio = sum([df*w for df, w in zip(dfs,weights)])\n",
    "    portfolio['Return'] = (portfolio['Close'] - portfolio['Close'].shift(1))/portfolio['Close'].shift(1)\n",
    "    portfolio = portfolio[(portfolio.index > from_date)]\n",
    "    portfolio = portfolio[portfolio.index.dayofweek < 5]\n",
    "    return portfolio.dropna()\n",
    "    "
   ]
  },
  {
   "cell_type": "code",
   "execution_count": 154,
   "metadata": {},
   "outputs": [],
   "source": [
    "def stocks_returns(assets: list[str], weights: list[float], from_date: str, to_date: str) -> pd.Series:\n",
    "    \n",
    "    available_stocks = ['AAPL', 'AMD', 'TSLA', 'AMZN', 'NVDA', 'INTC', 'MU', 'MSFT', 'META', 'GOOGL']\n",
    "    \n",
    "    if np.setdiff1d(assets, available_stocks).size >= 1:\n",
    "        print('Error. Make sure that tickers entered are in the tickers list:')\n",
    "        print(available_tickers)\n",
    "        \n",
    "    if len(assets) != len(weights):\n",
    "        print('Error. Number of assets is not equal to number of weights')\n",
    "        \n",
    "    if sum(weights) != 1:\n",
    "        print('Error. Sum of weights must be 1')\n",
    "        \n",
    "    if datetime.strptime(from_date, '%m/%d/%Y') >= datetime.strptime(to_date, '%m/%d/%Y'):\n",
    "        print('Error. Start date must be less than end date')\n",
    "        \n",
    "    if datetime.strptime(from_date, '%m/%d/%Y') < datetime.strptime('01/02/2020', '%m/%d/%Y'):\n",
    "        print('Error. Start date must be less than 01/02/2020')\n",
    "        \n",
    "    if datetime.strptime(to_date, '%m/%d/%Y') > datetime.strptime('10/01/2022', '%m/%d/%Y'):\n",
    "        print('Error. End date must be less than 10/01/2022')\n",
    "        \n",
    "        return None\n",
    "    \n",
    "    else:\n",
    "        return weighted_portfolio(assets = assets, weights = weights, from_date = from_date, to_date = to_date)[['Return']]"
   ]
  },
  {
   "cell_type": "code",
   "execution_count": 155,
   "metadata": {},
   "outputs": [],
   "source": [
    "def cryptocurrencies_returns(assets: list[str], weights: list[float], from_date: str, to_date: str) -> pd.Series:\n",
    "    \n",
    "    available_crypto = ['BTC-USD', 'ETH-USD', 'USDT-USD', 'USDC-USD', 'BNB-USD', 'XRP-USD', \n",
    "                        'BUSD-USD', 'ADA-USD', 'SOL-USD', 'DOGE-USD']\n",
    "    \n",
    "    if np.setdiff1d(assets, available_crypto).size >= 1:\n",
    "        print('Error. Make sure that tickers entered are in the tickers list:')\n",
    "        print(available_tickers)\n",
    "        \n",
    "    if len(assets) != len(weights):\n",
    "        print('Error. Number of assets is not equal to number of weights')\n",
    "        \n",
    "    if sum(weights) != 1:\n",
    "        print('Error. Sum of weights must be 1')\n",
    "        \n",
    "    if datetime.strptime(from_date, '%m/%d/%Y') >= datetime.strptime(to_date, '%m/%d/%Y'):\n",
    "        print('Error. Start date must be less than end date')\n",
    "        \n",
    "    if datetime.strptime(from_date, '%m/%d/%Y') < datetime.strptime('01/02/2020', '%m/%d/%Y'):\n",
    "        print('Error. Start date must be less than 01/02/2020')\n",
    "        \n",
    "    if datetime.strptime(to_date, '%m/%d/%Y') > datetime.strptime('10/01/2022', '%m/%d/%Y'):\n",
    "        print('Error. End date must be less than 10/01/2022')\n",
    "        \n",
    "        return None\n",
    "    \n",
    "    else:\n",
    "        return weighted_portfolio(assets = assets, weights = weights, from_date = from_date, to_date = to_date)[['Return']]"
   ]
  },
  {
   "cell_type": "code",
   "execution_count": 156,
   "metadata": {},
   "outputs": [],
   "source": [
    "def commodities_returns(assets: list[str], weights: list[float], from_date: str, to_date: str) -> pd.Series:\n",
    "    \n",
    "    available_commodities = ['BZ=F','CL=F','NG=F','HO=F','GC=F', 'SI=F', 'HG=F', 'PL=F', 'KC=F', 'ZC=F']\n",
    "    \n",
    "    if np.setdiff1d(assets, available_commodities).size >= 1:\n",
    "        print('Error. Make sure that tickers entered are in the tickers list:')\n",
    "        print(available_tickers)\n",
    "        \n",
    "    if len(assets) != len(weights):\n",
    "        print('Error. Number of assets is not equal to number of weights')\n",
    "        \n",
    "    if sum(weights) != 1:\n",
    "        print('Error. Sum of weights must be 1')\n",
    "        \n",
    "    if datetime.strptime(from_date, '%m/%d/%Y') >= datetime.strptime(to_date, '%m/%d/%Y'):\n",
    "        print('Error. Start date must be less than end date')\n",
    "        \n",
    "    if datetime.strptime(from_date, '%m/%d/%Y') < datetime.strptime('01/02/2020', '%m/%d/%Y'):\n",
    "        print('Error. Start date must be less than 01/02/2020')\n",
    "        \n",
    "    if datetime.strptime(to_date, '%m/%d/%Y') > datetime.strptime('10/01/2022', '%m/%d/%Y'):\n",
    "        print('Error. End date must be less than 10/01/2022')\n",
    "        return None\n",
    "    \n",
    "    else:\n",
    "        return weighted_portfolio(assets = assets, weights = weights, from_date = from_date, to_date = to_date)[['Return']]"
   ]
  },
  {
   "cell_type": "code",
   "execution_count": null,
   "metadata": {},
   "outputs": [],
   "source": []
  }
 ],
 "metadata": {
  "kernelspec": {
   "display_name": "Python 3 (ipykernel)",
   "language": "python",
   "name": "python3"
  },
  "language_info": {
   "codemirror_mode": {
    "name": "ipython",
    "version": 3
   },
   "file_extension": ".py",
   "mimetype": "text/x-python",
   "name": "python",
   "nbconvert_exporter": "python",
   "pygments_lexer": "ipython3",
   "version": "3.10.8"
  }
 },
 "nbformat": 4,
 "nbformat_minor": 4
}
